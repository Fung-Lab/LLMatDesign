{
 "cells": [
  {
   "cell_type": "code",
   "execution_count": null,
   "metadata": {},
   "outputs": [],
   "source": [
    "import os\n",
    "import sys\n",
    "\n",
    "from llmatdesign.modules.llms import AskLLM\n",
    "from llmatdesign.core.agent import Agent\n",
    "from llmatdesign.utils import *\n",
    "from llmatdesign.core.discover import *"
   ]
  },
  {
   "cell_type": "code",
   "execution_count": null,
   "metadata": {},
   "outputs": [],
   "source": [
    "api_key = \"\"\n",
    "openai_organization = None\n",
    "\n",
    "llm = AskLLM(\"gpt-4o\", api_key=api_key, openai_organization=openai_organization)\n",
    "\n",
    "agent = Agent(\n",
    "    llm,\n",
    "    save_path=\"outputs/cifs/\",\n",
    "    forcefield_config_path=\"../checkpoints/matdeeplearn/force_field/config.yml\",\n",
    "    bandgap_config_path=\"../checkpoints/matdeeplearn/band_gap/config.yml\",\n",
    "    formation_energy_config_path=\"../checkpoints/matdeeplearn/formation_energy/config.yml\",\n",
    ")"
   ]
  },
  {
   "cell_type": "code",
   "execution_count": null,
   "metadata": {},
   "outputs": [],
   "source": [
    "out = discover_bandgap(\n",
    "    agent,\n",
    "    chemical_formula=\"SrTiO3\"\n",
    ")"
   ]
  }
 ],
 "metadata": {
  "kernelspec": {
   "display_name": "Python 3",
   "language": "python",
   "name": "python3"
  },
  "language_info": {
   "codemirror_mode": {
    "name": "ipython",
    "version": 3
   },
   "file_extension": ".py",
   "mimetype": "text/x-python",
   "name": "python",
   "nbconvert_exporter": "python",
   "pygments_lexer": "ipython3",
   "version": "3.9.18"
  }
 },
 "nbformat": 4,
 "nbformat_minor": 2
}
